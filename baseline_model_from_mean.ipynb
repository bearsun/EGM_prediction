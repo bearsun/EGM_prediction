{
 "cells": [
  {
   "cell_type": "code",
   "execution_count": 1,
   "metadata": {},
   "outputs": [],
   "source": [
    "# using mean to build a baseline model, predict by the combination of all categorical variables"
   ]
  },
  {
   "cell_type": "code",
   "execution_count": 2,
   "metadata": {},
   "outputs": [],
   "source": [
    "import pandas as pd\n",
    "import numpy as np\n",
    "import lightgbm as lgb\n",
    "from datetime import date, timedelta\n",
    "import matplotlib.pyplot as plt\n",
    "%matplotlib inline"
   ]
  },
  {
   "cell_type": "code",
   "execution_count": 3,
   "metadata": {},
   "outputs": [],
   "source": [
    "from sklearn.preprocessing import LabelEncoder\n",
    "from sklearn.metrics import mean_absolute_error"
   ]
  },
  {
   "cell_type": "code",
   "execution_count": 4,
   "metadata": {},
   "outputs": [],
   "source": [
    "# load\n",
    "data = pd.read_csv('df_egm.csv', parse_dates=['order_date'])\n",
    "# feature with no variance / duplicated feature\n",
    "data.drop(['store_id', 'is_liquidation', 'is_cancelled'], axis = 1, inplace = True)\n",
    "# duplicated\n",
    "data = data[~data['id'].duplicated()]\n",
    "# drop cancelled\n",
    "data = data[data['quantity_cancelled'] == 0]\n",
    "\n",
    "data['date'] = data['order_date'].dt.date\n",
    "data['cost'] = data['cost_product'] + data['cost_shipping'] + data['cost_other']"
   ]
  },
  {
   "cell_type": "code",
   "execution_count": 5,
   "metadata": {},
   "outputs": [],
   "source": [
    "ds_egm = data[['id', 'date','revenue_net', 'cost']].copy()\n",
    "ds_egm['egm'] = 1 - ds_egm['cost']/ds_egm['revenue_net']\n",
    "# exluding revenue_net = 0: can't calculate EGM\n",
    "ds_egm.loc[ds_egm['revenue_net'] == 0, 'egm'] = np.nan"
   ]
  },
  {
   "cell_type": "code",
   "execution_count": 6,
   "metadata": {},
   "outputs": [],
   "source": [
    "in_mask = ds_egm['egm'].abs()<=3\n",
    "out_mask = ds_egm['egm'].abs()>3\n",
    "nan_mask = ds_egm['egm'].isnull()\n",
    "ntotal = ds_egm.shape[0]"
   ]
  },
  {
   "cell_type": "code",
   "execution_count": 7,
   "metadata": {},
   "outputs": [],
   "source": [
    "data = data[in_mask]"
   ]
  },
  {
   "cell_type": "code",
   "execution_count": 8,
   "metadata": {},
   "outputs": [],
   "source": [
    "cats = ['shipping_speed_id', 'supplier_id', 'category_id', 'class_id', 'carrier_id', 'manufacturer_id', 'is_b2b', 'is_giftcard']"
   ]
  },
  {
   "cell_type": "code",
   "execution_count": 9,
   "metadata": {},
   "outputs": [],
   "source": [
    "data['egm'] = 1 - data['cost']/data['revenue_net']"
   ]
  },
  {
   "cell_type": "code",
   "execution_count": 10,
   "metadata": {},
   "outputs": [],
   "source": [
    "mean_egm = data.groupby(cats)['egm'].mean().copy()"
   ]
  },
  {
   "cell_type": "code",
   "execution_count": 11,
   "metadata": {},
   "outputs": [],
   "source": [
    "ds_train = data[data['date'] < date(2018, 7, 17)].copy()\n",
    "ds_test = data[data['date'] > date(2018, 7, 16)].copy()"
   ]
  },
  {
   "cell_type": "code",
   "execution_count": 12,
   "metadata": {},
   "outputs": [],
   "source": [
    "train_egm = ds_train[['id', 'egm']].copy()\n",
    "test_egm = ds_test[['id', 'egm']].copy()"
   ]
  },
  {
   "cell_type": "code",
   "execution_count": 13,
   "metadata": {},
   "outputs": [],
   "source": [
    "# predict training set\n",
    "train_pred = ds_train.set_index(cats).drop(['egm'], axis = 1).join(mean_egm)[['id', 'egm']].copy()"
   ]
  },
  {
   "cell_type": "code",
   "execution_count": 14,
   "metadata": {},
   "outputs": [],
   "source": [
    "# filling missing carrier_id\n",
    "cats_no_car = ['shipping_speed_id', 'supplier_id', 'category_id', 'class_id', 'manufacturer_id', 'is_b2b', 'is_giftcard']\n",
    "fi_car = ds_train.groupby(cats_no_car)['egm'].mean().copy()\n",
    "train_pred['egm'] = train_pred.reset_index().set_index(cats_no_car)['egm'].fillna(fi_car).values"
   ]
  },
  {
   "cell_type": "code",
   "execution_count": 15,
   "metadata": {},
   "outputs": [],
   "source": [
    "# missing category_id\n",
    "cats_no_cg = ['shipping_speed_id', 'supplier_id', 'class_id', 'carrier_id', 'manufacturer_id', 'is_b2b', 'is_giftcard']\n",
    "fi_cg = ds_train.groupby(cats_no_cg)['egm'].mean().copy()\n",
    "train_pred['egm'] = train_pred.reset_index().set_index(cats_no_cg)['egm'].fillna(fi_cg).values"
   ]
  },
  {
   "cell_type": "code",
   "execution_count": 16,
   "metadata": {},
   "outputs": [],
   "source": [
    "# missing category_id & carrier_id\n",
    "cats_no_cgcar = ['shipping_speed_id', 'supplier_id', 'class_id', 'manufacturer_id', 'is_b2b', 'is_giftcard']\n",
    "fi_cgcar = ds_train.groupby(cats_no_cgcar)['egm'].mean().copy()\n",
    "train_pred['egm'] = train_pred.reset_index().set_index(cats_no_cgcar)['egm'].fillna(fi_cgcar).values"
   ]
  },
  {
   "cell_type": "code",
   "execution_count": 17,
   "metadata": {},
   "outputs": [],
   "source": [
    "# missing supplier_id & category_id\n",
    "cats_no_spcg = ['shipping_speed_id', 'class_id', 'carrier_id', 'manufacturer_id', 'is_b2b', 'is_giftcard']\n",
    "fi_spcg = ds_train.groupby(cats_no_spcg)['egm'].mean().copy()\n",
    "train_pred['egm'] = train_pred.reset_index().set_index(cats_no_spcg)['egm'].fillna(fi_spcg).values"
   ]
  },
  {
   "cell_type": "code",
   "execution_count": 18,
   "metadata": {},
   "outputs": [],
   "source": [
    "# missing shipping_speed_id & carrier_id\n",
    "cats_no_spcar = ['supplier_id', 'category_id', 'class_id', 'manufacturer_id', 'is_b2b', 'is_giftcard']\n",
    "fi_spcar = ds_train.groupby(cats_no_spcar)['egm'].mean().copy()\n",
    "train_pred['egm'] = train_pred.reset_index().set_index(cats_no_spcar)['egm'].fillna(fi_spcar).values"
   ]
  },
  {
   "cell_type": "code",
   "execution_count": 19,
   "metadata": {},
   "outputs": [
    {
     "data": {
      "text/plain": [
       "0.10918519320598337"
      ]
     },
     "execution_count": 19,
     "metadata": {},
     "output_type": "execute_result"
    }
   ],
   "source": [
    "# calculate MAE\n",
    "train_pred = train_pred.reset_index().drop(cats, axis = 1).set_index('id')\n",
    "train_egm = train_egm.rename(index = str, columns = {'egm': 'egm_true'})\n",
    "train_egm = train_egm.set_index('id').join(train_pred).rename(index = str, columns = {'egm': 'egm_pred'})\n",
    "mean_absolute_error(train_egm['egm_true'], train_egm['egm_pred'])"
   ]
  },
  {
   "cell_type": "code",
   "execution_count": 20,
   "metadata": {},
   "outputs": [],
   "source": [
    "# predict testing set\n",
    "test_pred = ds_test.set_index(cats).drop(['egm'], axis = 1).join(mean_egm)[['id', 'egm']].copy()"
   ]
  },
  {
   "cell_type": "code",
   "execution_count": 21,
   "metadata": {},
   "outputs": [],
   "source": [
    "# filling missing carrier_id\n",
    "test_pred['egm'] = test_pred.reset_index().set_index(cats_no_car)['egm'].fillna(fi_car).values"
   ]
  },
  {
   "cell_type": "code",
   "execution_count": 22,
   "metadata": {},
   "outputs": [],
   "source": [
    "# filling missing category_id\n",
    "test_pred['egm'] = test_pred.reset_index().set_index(cats_no_cg)['egm'].fillna(fi_cg).values"
   ]
  },
  {
   "cell_type": "code",
   "execution_count": 23,
   "metadata": {},
   "outputs": [],
   "source": [
    "# missing category_id & carrier_id\n",
    "test_pred['egm'] = test_pred.reset_index().set_index(cats_no_cgcar)['egm'].fillna(fi_cgcar).values"
   ]
  },
  {
   "cell_type": "code",
   "execution_count": 24,
   "metadata": {},
   "outputs": [],
   "source": [
    "# filling missing manufacturer_id & carrier_id\n",
    "cats_no_mancar = ['shipping_speed_id', 'supplier_id', 'category_id', 'class_id', 'is_b2b', 'is_giftcard']\n",
    "fi_mancar = ds_train.groupby(cats_no_mancar)['egm'].mean().copy()\n",
    "test_pred['egm'] = test_pred.reset_index().set_index(cats_no_mancar)['egm'].fillna(fi_mancar).values"
   ]
  },
  {
   "cell_type": "code",
   "execution_count": 25,
   "metadata": {},
   "outputs": [],
   "source": [
    "# filling missing manufacturer_id & carrier_id & is_b2b\n",
    "cats_no_mancarb = ['shipping_speed_id', 'supplier_id', 'category_id', 'class_id', 'is_giftcard']\n",
    "fi_mancarb = ds_train.groupby(cats_no_mancarb)['egm'].mean().copy()\n",
    "test_pred['egm'] = test_pred.reset_index().set_index(cats_no_mancarb)['egm'].fillna(fi_mancarb).values"
   ]
  },
  {
   "cell_type": "code",
   "execution_count": 26,
   "metadata": {},
   "outputs": [],
   "source": [
    "# filling missing manufacturer_id & carrier_id & is_giftcard & is_b2b\n",
    "cats_no_mancargb = ['shipping_speed_id', 'supplier_id', 'category_id', 'class_id']\n",
    "fi_mancargb = ds_train.groupby(cats_no_mancargb)['egm'].mean().copy()\n",
    "test_pred['egm'] = test_pred.reset_index().set_index(cats_no_mancargb)['egm'].fillna(fi_mancargb).values"
   ]
  },
  {
   "cell_type": "code",
   "execution_count": 44,
   "metadata": {
    "scrolled": true
   },
   "outputs": [],
   "source": [
    "mis = test_pred[test_pred['egm'].isnull()].copy()"
   ]
  },
  {
   "cell_type": "code",
   "execution_count": 45,
   "metadata": {
    "scrolled": true
   },
   "outputs": [],
   "source": [
    "mis = mis.reset_index().drop('carrier_id', axis = 1)"
   ]
  },
  {
   "cell_type": "code",
   "execution_count": 46,
   "metadata": {},
   "outputs": [],
   "source": [
    "ship = set(ds_train['shipping_speed_id'].unique())\n",
    "sup = set(ds_train['supplier_id'].unique())\n",
    "cat = set(ds_train['category_id'].unique())\n",
    "cla = set(ds_train['class_id'].unique())\n",
    "man = set(ds_train['manufacturer_id'].unique())\n",
    "dcats = {'shipping_speed_id': ship, 'supplier_id': sup, 'category_id': cat, 'class_id': cla, 'manufacturer_id': man}"
   ]
  },
  {
   "cell_type": "code",
   "execution_count": 47,
   "metadata": {},
   "outputs": [],
   "source": [
    "tofill = set()\n",
    "c = {'shipping_speed_id': '1', 'supplier_id': '2', 'category_id': '3', 'class_id': '4', 'manufacturer_id': '5'}"
   ]
  },
  {
   "cell_type": "code",
   "execution_count": 48,
   "metadata": {},
   "outputs": [],
   "source": [
    "for _, val in mis.iterrows():\n",
    "    c1 = ['shipping_speed_id', 'supplier_id', 'category_id', 'class_id', 'manufacturer_id']\n",
    "    c2 = ['1','2','3','4','5']\n",
    "    for s in c1:\n",
    "        if val[s] not in dcats[s]:\n",
    "            c2.remove(c[s])\n",
    "    tofill.add(''.join(c2))"
   ]
  },
  {
   "cell_type": "code",
   "execution_count": 49,
   "metadata": {},
   "outputs": [
    {
     "data": {
      "text/plain": [
       "{'1234', '12345', '13', '134', '1345', '2345'}"
      ]
     },
     "execution_count": 49,
     "metadata": {},
     "output_type": "execute_result"
    }
   ],
   "source": [
    "tofill"
   ]
  },
  {
   "cell_type": "code",
   "execution_count": 76,
   "metadata": {},
   "outputs": [],
   "source": [
    "# filling missing\n",
    "cats_fill = ['shipping_speed_id', 'category_id',  'is_b2b', 'is_giftcard']\n",
    "fi = ds_train.groupby(cats_fill)['egm'].mean().copy()\n",
    "test_pred['egm'] = test_pred.reset_index().set_index(cats_fill)['egm'].fillna(fi).values"
   ]
  },
  {
   "cell_type": "code",
   "execution_count": 77,
   "metadata": {},
   "outputs": [
    {
     "data": {
      "text/plain": [
       "shipping_speed_id        0\n",
       "supplier_id              0\n",
       "category_id            127\n",
       "class_id                 0\n",
       "carrier_id           15361\n",
       "manufacturer_id          0\n",
       "is_b2b                   0\n",
       "is_giftcard              0\n",
       "id                       0\n",
       "egm                      0\n",
       "dtype: int64"
      ]
     },
     "execution_count": 77,
     "metadata": {},
     "output_type": "execute_result"
    }
   ],
   "source": [
    "test_pred.reset_index().isnull().sum()"
   ]
  },
  {
   "cell_type": "code",
   "execution_count": 79,
   "metadata": {},
   "outputs": [],
   "source": [
    "test_pred = test_pred.reset_index().drop(cats, axis = 1).set_index('id')"
   ]
  },
  {
   "cell_type": "code",
   "execution_count": 81,
   "metadata": {},
   "outputs": [],
   "source": [
    "test_egm = test_egm.rename(index = str, columns = {'egm': 'egm_true'})"
   ]
  },
  {
   "cell_type": "code",
   "execution_count": 83,
   "metadata": {},
   "outputs": [],
   "source": [
    "test_egm = test_egm.set_index('id').join(test_pred).rename(index = str, columns = {'egm': 'egm_pred'})"
   ]
  },
  {
   "cell_type": "code",
   "execution_count": 85,
   "metadata": {
    "scrolled": true
   },
   "outputs": [
    {
     "data": {
      "text/plain": [
       "0.11244553235762837"
      ]
     },
     "execution_count": 85,
     "metadata": {},
     "output_type": "execute_result"
    }
   ],
   "source": [
    "mean_absolute_error(test_egm['egm_true'], test_egm['egm_pred'])"
   ]
  }
 ],
 "metadata": {
  "kernelspec": {
   "display_name": "Python 3",
   "language": "python",
   "name": "python3"
  },
  "language_info": {
   "codemirror_mode": {
    "name": "ipython",
    "version": 3
   },
   "file_extension": ".py",
   "mimetype": "text/x-python",
   "name": "python",
   "nbconvert_exporter": "python",
   "pygments_lexer": "ipython3",
   "version": "3.6.6"
  }
 },
 "nbformat": 4,
 "nbformat_minor": 2
}
